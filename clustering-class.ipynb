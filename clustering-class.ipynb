{
 "cells": [
  {
   "cell_type": "markdown",
   "metadata": {
    "vscode": {
     "languageId": "plaintext"
    }
   },
   "source": [
    "# Import necessary libraries"
   ]
  },
  {
   "cell_type": "code",
   "execution_count": null,
   "metadata": {},
   "outputs": [],
   "source": []
  },
  {
   "cell_type": "markdown",
   "metadata": {},
   "source": [
    "# Load Dataset"
   ]
  },
  {
   "cell_type": "code",
   "execution_count": null,
   "metadata": {},
   "outputs": [],
   "source": []
  },
  {
   "cell_type": "markdown",
   "metadata": {},
   "source": [
    "# Scale dataset"
   ]
  },
  {
   "cell_type": "code",
   "execution_count": null,
   "metadata": {},
   "outputs": [],
   "source": []
  },
  {
   "cell_type": "markdown",
   "metadata": {},
   "source": [
    "# Elbow method for finding optimum number of k"
   ]
  },
  {
   "cell_type": "code",
   "execution_count": null,
   "metadata": {},
   "outputs": [],
   "source": []
  },
  {
   "cell_type": "markdown",
   "metadata": {},
   "source": [
    "# Modeling KMeans"
   ]
  },
  {
   "cell_type": "code",
   "execution_count": null,
   "metadata": {},
   "outputs": [],
   "source": []
  },
  {
   "cell_type": "markdown",
   "metadata": {},
   "source": [
    "# Plotting Kmeans"
   ]
  },
  {
   "cell_type": "code",
   "execution_count": null,
   "metadata": {},
   "outputs": [],
   "source": []
  },
  {
   "cell_type": "markdown",
   "metadata": {},
   "source": [
    "# Dimensionality Reduction using PCA"
   ]
  },
  {
   "cell_type": "code",
   "execution_count": null,
   "metadata": {},
   "outputs": [],
   "source": []
  },
  {
   "cell_type": "markdown",
   "metadata": {},
   "source": [
    "# KMeans after reducing"
   ]
  },
  {
   "cell_type": "code",
   "execution_count": null,
   "metadata": {},
   "outputs": [],
   "source": []
  },
  {
   "cell_type": "markdown",
   "metadata": {},
   "source": [
    "# Plotting After"
   ]
  },
  {
   "cell_type": "code",
   "execution_count": null,
   "metadata": {},
   "outputs": [],
   "source": []
  },
  {
   "cell_type": "markdown",
   "metadata": {},
   "source": [
    "# Evaluation Metrics\n",
    "*silhouette_score, davies_bouldin_score, calinski_harabasz_score*"
   ]
  },
  {
   "cell_type": "code",
   "execution_count": null,
   "metadata": {},
   "outputs": [],
   "source": []
  },
  {
   "cell_type": "markdown",
   "metadata": {},
   "source": [
    "# Hierarchical Clustering Agglomerative"
   ]
  },
  {
   "cell_type": "code",
   "execution_count": null,
   "metadata": {},
   "outputs": [],
   "source": []
  },
  {
   "cell_type": "markdown",
   "metadata": {},
   "source": [
    "# Plotting Dendrogram"
   ]
  },
  {
   "cell_type": "code",
   "execution_count": null,
   "metadata": {},
   "outputs": [],
   "source": []
  },
  {
   "cell_type": "markdown",
   "metadata": {},
   "source": [
    "# Evaluation Metrics"
   ]
  },
  {
   "cell_type": "code",
   "execution_count": null,
   "metadata": {},
   "outputs": [],
   "source": []
  },
  {
   "cell_type": "markdown",
   "metadata": {},
   "source": [
    "# Comparison"
   ]
  },
  {
   "cell_type": "code",
   "execution_count": null,
   "metadata": {},
   "outputs": [],
   "source": []
  },
  {
   "cell_type": "markdown",
   "metadata": {},
   "source": [
    "## Assignment for Students:\n",
    "---\n",
    "### 1. Load the Iris Dataset\n",
    "- Load the Iris dataset using `sklearn.datasets.load_iris()`.\n",
    "- Split the dataset into features (`X`) and target (`y`).\n",
    "\n",
    "### 2. Data Preprocessing\n",
    "- Scale the features using `StandardScaler` or `MinMaxScaler` to ensure they are on the same scale for clustering.\n",
    "\n",
    "### 3. K-Means Clustering:\n",
    "- Apply K-Means clustering on the scaled data and use the **Elbow Method** to determine the optimal number of clusters.\n",
    "- Create a plot of inertia vs. the number of clusters to visualize the elbow.\n",
    "- Apply K-Means using the chosen optimal number of clusters (e.g., `optimal_k = 3`).\n",
    "- Plot the clusters and the centroids.\n",
    "\n",
    "### 4. Apply PCA for Dimensionality Reduction\n",
    "- Use **PCA** to reduce the data to 2 components for better visualization.\n",
    "- Apply K-Means on the PCA-transformed data and plot the results.\n",
    "\n",
    "### 5. Cluster Validation:\n",
    "- Calculate the **silhouette score**, **Davies-Bouldin score**, and **Calinski-Harabasz score** for the K-Means clustering.\n",
    "- Print the validation scores.\n",
    "\n",
    "### 6. Hierarchical Clustering:\n",
    "- Apply **Agglomerative Clustering** (Hierarchical Clustering) on the scaled Iris data.\n",
    "- Plot a **dendrogram** to visualize the hierarchical clustering.\n",
    "- Plot the clusters obtained from Hierarchical clustering in the feature space.\n",
    "- Apply PCA to visualize the hierarchical clusters in the reduced 2D space.\n",
    "\n",
    "### 7. Validation for Hierarchical Clustering:\n",
    "- Calculate the **silhouette score**, **Davies-Bouldin score**, and **Calinski-Harabasz score** for Hierarchical clustering and print the results.\n",
    "\n",
    "### 8. Comparison between K-Means and Hierarchical Clustering:\n",
    "- **Graphical Comparison:**\n",
    "    - Create side-by-side scatter plots comparing the clusters formed by K-Means and Hierarchical clustering in both the feature space and the PCA-reduced space.\n",
    "    - Display the centroids for K-Means and the hierarchical clustering labels.\n",
    "\n",
    "- **Textual Analysis:**\n",
    "    - Compare the clustering results from K-Means and Hierarchical clustering. Discuss how the clusters differ or overlap.\n",
    "    - Compare the validation scores (Silhouette Score, Davies-Bouldin Score, Calinski-Harabasz Score) between the two methods. Which method performs better, and why?\n",
    "    - Discuss the characteristics of both clustering techniques and the advantages or limitations of each based on the Iris dataset.\n",
    "---\n",
    "\n"
   ]
  },
  {
   "cell_type": "code",
   "execution_count": null,
   "metadata": {},
   "outputs": [],
   "source": []
  }
 ],
 "metadata": {
  "kernelspec": {
   "display_name": ".env",
   "language": "python",
   "name": "python3"
  },
  "language_info": {
   "codemirror_mode": {
    "name": "ipython",
    "version": 3
   },
   "file_extension": ".py",
   "mimetype": "text/x-python",
   "name": "python",
   "nbconvert_exporter": "python",
   "pygments_lexer": "ipython3",
   "version": "3.12.3"
  }
 },
 "nbformat": 4,
 "nbformat_minor": 2
}
